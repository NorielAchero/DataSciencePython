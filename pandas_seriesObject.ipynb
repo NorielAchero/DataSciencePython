{
  "nbformat": 4,
  "nbformat_minor": 0,
  "metadata": {
    "colab": {
      "provenance": []
    },
    "kernelspec": {
      "name": "python3",
      "display_name": "Python 3"
    },
    "language_info": {
      "name": "python"
    }
  },
  "cells": [
    {
      "cell_type": "code",
      "execution_count": 1,
      "metadata": {
        "id": "OpICT-0YS-Lb"
      },
      "outputs": [],
      "source": [
        "import pandas as pd"
      ]
    },
    {
      "cell_type": "code",
      "source": [
        "# Series Object is one-dimensional labeled array"
      ],
      "metadata": {
        "id": "igfmJJ1oTKnn"
      },
      "execution_count": 2,
      "outputs": []
    },
    {
      "cell_type": "code",
      "source": [
        "s1 = pd.Series([1,2,3,4,5]) #Series\n",
        "s1"
      ],
      "metadata": {
        "colab": {
          "base_uri": "https://localhost:8080/"
        },
        "id": "SbG5IwYATR-X",
        "outputId": "1621e9aa-648b-49fc-c6b2-bb685dae9994"
      },
      "execution_count": 3,
      "outputs": [
        {
          "output_type": "execute_result",
          "data": {
            "text/plain": [
              "0    1\n",
              "1    2\n",
              "2    3\n",
              "3    4\n",
              "4    5\n",
              "dtype: int64"
            ]
          },
          "metadata": {},
          "execution_count": 3
        }
      ]
    },
    {
      "cell_type": "code",
      "source": [
        "s2 = pd.Series([1,2,3,4,5], index = ['Noriel', 'Achero', 'Hello', 'World', 'Haha']) #Series with Changing Index\n",
        "s2"
      ],
      "metadata": {
        "colab": {
          "base_uri": "https://localhost:8080/"
        },
        "id": "2C_RkW7wTXX1",
        "outputId": "6a288ac2-ca92-41ae-bd8a-2bcd1054fa50"
      },
      "execution_count": 6,
      "outputs": [
        {
          "output_type": "execute_result",
          "data": {
            "text/plain": [
              "Noriel    1\n",
              "Achero    2\n",
              "Hello     3\n",
              "World     4\n",
              "Haha      5\n",
              "dtype: int64"
            ]
          },
          "metadata": {},
          "execution_count": 6
        }
      ]
    },
    {
      "cell_type": "code",
      "source": [
        "s3 = pd.Series({'a': 10, 'b': 20, 'c': 30}) # Series Object from Dictionary\n",
        "s3"
      ],
      "metadata": {
        "colab": {
          "base_uri": "https://localhost:8080/"
        },
        "id": "LLYtpyIRTcQa",
        "outputId": "699c70ee-c22a-4662-e753-43f00af5817a"
      },
      "execution_count": 8,
      "outputs": [
        {
          "output_type": "execute_result",
          "data": {
            "text/plain": [
              "a    10\n",
              "b    20\n",
              "c    30\n",
              "dtype: int64"
            ]
          },
          "metadata": {},
          "execution_count": 8
        }
      ]
    },
    {
      "cell_type": "code",
      "source": [
        "s4 = pd.Series({'a': 10, 'b': 20, 'c': 30}, index = ['c', 'a', 'b']) # Dictionary Change with Index\n",
        "s4"
      ],
      "metadata": {
        "colab": {
          "base_uri": "https://localhost:8080/"
        },
        "id": "lcP_PxpoUrqW",
        "outputId": "71f6a393-8809-41ff-a380-8c32bb41f8a3"
      },
      "execution_count": 10,
      "outputs": [
        {
          "output_type": "execute_result",
          "data": {
            "text/plain": [
              "c    30\n",
              "a    10\n",
              "b    20\n",
              "dtype: int64"
            ]
          },
          "metadata": {},
          "execution_count": 10
        }
      ]
    },
    {
      "cell_type": "code",
      "source": [
        "s5 = pd.Series([1,2,3,4,5,6,7,8,9]) # Extracting Single Element\n",
        "s5[5]"
      ],
      "metadata": {
        "colab": {
          "base_uri": "https://localhost:8080/"
        },
        "id": "DEKj6XIQVHaX",
        "outputId": "25ab5e70-e2d7-457c-9163-df4813c7f628"
      },
      "execution_count": 11,
      "outputs": [
        {
          "output_type": "execute_result",
          "data": {
            "text/plain": [
              "6"
            ]
          },
          "metadata": {},
          "execution_count": 11
        }
      ]
    },
    {
      "cell_type": "code",
      "source": [
        "s6 = pd.Series([1,2,3,4,5,6,7,8,9]) # Extracting From Sequence\n",
        "s6[:5]"
      ],
      "metadata": {
        "colab": {
          "base_uri": "https://localhost:8080/"
        },
        "id": "DROLNdhaVmFv",
        "outputId": "c233c0c3-dc29-4ed7-afb0-32f9de7fd3cf"
      },
      "execution_count": 13,
      "outputs": [
        {
          "output_type": "execute_result",
          "data": {
            "text/plain": [
              "0    1\n",
              "1    2\n",
              "2    3\n",
              "3    4\n",
              "4    5\n",
              "dtype: int64"
            ]
          },
          "metadata": {},
          "execution_count": 13
        }
      ]
    },
    {
      "cell_type": "code",
      "source": [
        "s7 = pd.Series([1,2,3,4,5,6,7,8,9]) # Extracting From Sequence from Back\n",
        "s7[-3:]"
      ],
      "metadata": {
        "colab": {
          "base_uri": "https://localhost:8080/"
        },
        "id": "NsnapUi0Vtzm",
        "outputId": "65a56ce3-a0e0-438d-e9f7-b5f07ffdc66b"
      },
      "execution_count": 14,
      "outputs": [
        {
          "output_type": "execute_result",
          "data": {
            "text/plain": [
              "6    7\n",
              "7    8\n",
              "8    9\n",
              "dtype: int64"
            ]
          },
          "metadata": {},
          "execution_count": 14
        }
      ]
    },
    {
      "cell_type": "code",
      "source": [
        "s8 = pd.Series([1,2,3,4,5,6,7,8,9]) # Basic Math Operations on Series\n",
        "s8 + 10 # Addition on Elements"
      ],
      "metadata": {
        "colab": {
          "base_uri": "https://localhost:8080/"
        },
        "id": "WA8lr4EYV86j",
        "outputId": "e935241e-6203-4d1e-d4ca-b5f5ffa0fb28"
      },
      "execution_count": 16,
      "outputs": [
        {
          "output_type": "execute_result",
          "data": {
            "text/plain": [
              "0    11\n",
              "1    12\n",
              "2    13\n",
              "3    14\n",
              "4    15\n",
              "5    16\n",
              "6    17\n",
              "7    18\n",
              "8    19\n",
              "dtype: int64"
            ]
          },
          "metadata": {},
          "execution_count": 16
        }
      ]
    },
    {
      "cell_type": "code",
      "source": [
        "s9 = pd.Series([1,2,3,4,5,6,7,8,9]) # Addition on two Series Objects\n",
        "s10 = pd.Series([1,2,3,4,5,6,7,8,9])\n",
        "\n",
        "s9 + s10"
      ],
      "metadata": {
        "colab": {
          "base_uri": "https://localhost:8080/"
        },
        "id": "dl-3QHtaWeUJ",
        "outputId": "e11d6e8a-2497-472f-ef53-6c27ee9c3bb5"
      },
      "execution_count": 17,
      "outputs": [
        {
          "output_type": "execute_result",
          "data": {
            "text/plain": [
              "0     2\n",
              "1     4\n",
              "2     6\n",
              "3     8\n",
              "4    10\n",
              "5    12\n",
              "6    14\n",
              "7    16\n",
              "8    18\n",
              "dtype: int64"
            ]
          },
          "metadata": {},
          "execution_count": 17
        }
      ]
    },
    {
      "cell_type": "code",
      "source": [],
      "metadata": {
        "id": "Y2IvxTP0Wuj-"
      },
      "execution_count": null,
      "outputs": []
    }
  ]
}